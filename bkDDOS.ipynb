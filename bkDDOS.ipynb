{
  "nbformat": 4,
  "nbformat_minor": 0,
  "metadata": {
    "colab": {
      "name": "bkDDOS.ipynb",
      "provenance": [],
      "collapsed_sections": [],
      "include_colab_link": true
    },
    "kernelspec": {
      "name": "python3",
      "display_name": "Python 3"
    },
    "language_info": {
      "name": "python"
    }
  },
  "cells": [
    {
      "cell_type": "markdown",
      "metadata": {
        "id": "view-in-github",
        "colab_type": "text"
      },
      "source": [
        "<a href=\"https://colab.research.google.com/github/bharadwajkastur1/DDOS-Detection-using-Machine-Learning/blob/master/bkDDOS.ipynb\" target=\"_parent\"><img src=\"https://colab.research.google.com/assets/colab-badge.svg\" alt=\"Open In Colab\"/></a>"
      ]
    },
    {
      "cell_type": "code",
      "metadata": {
        "id": "wYMgoeMjZY1I"
      },
      "source": [
        ""
      ],
      "execution_count": null,
      "outputs": []
    },
    {
      "cell_type": "code",
      "metadata": {
        "id": "aDzvFhSOQd-o"
      },
      "source": [
        "import sys\n",
        "import sklearn\n",
        "import numpy as np\n",
        "import os\n",
        "%matplotlib inline\n",
        "import matplotlib as mpl\n",
        "import matplotlib.pyplot as plt\n",
        "import random"
      ],
      "execution_count": null,
      "outputs": []
    },
    {
      "cell_type": "code",
      "metadata": {
        "id": "8T5ahyRqUSZz"
      },
      "source": [
        "colnames = [\"duration\",\"protocol_type\",\"service\",\"flag\",\"src_bytes\",\"dst_bytes\",\"land\",\"wrong_fragment\",\"urgent\",\"hot\",\"num_failed_logins\",\"logged_in\",\"num_compromised\",\"root_shell\",\"su_attempted\",\"num_root\",\"num_file_creations\",\"num_shells\",\"num_access_files\",\"num_outbound_cmds\",\"is_host_login\",\"is_guest_login\",\"count\",\"srv_count\",\"serror_rate\",\"srv_serror_rate\",\"same_srv_rate\",\"diff_srv_rate\",\"srv_diff_host_rate\",\"una1\",\"una2\",\"dst_host_count\",\"dst_host_srv_count\",\"dst_host_same_srv_rate\",\"dst_host_diff_srv_rate\",\"dst_host_same_src_port_rate\",\"dst_host_srv_diff_host_rate\",\"dst_host_serror_rate\",\"dst_host_srv_serror_rate\",\"dst_host_rerror_rate\",\"dst_host_srv_rerror_rate\",\"result\"]\n",
        "# len(colnames)"
      ],
      "execution_count": null,
      "outputs": []
    },
    {
      "cell_type": "code",
      "metadata": {
        "colab": {
          "base_uri": "https://localhost:8080/"
        },
        "id": "rNUFSL0uiYYs",
        "outputId": "76c48bf8-185e-47ce-eb00-dabbc1f9dd70"
      },
      "source": [
        "import pandas as pd\n",
        "from zipfile import ZipFile\n",
        "from urllib.request import urlopen\n",
        "import io\n",
        "\n",
        "f = urlopen('https://raw.githubusercontent.com/AkshatGarg7/DDOS-Detection-using-Machine-Learning/master/Dataset/dataset.zip').read()\n",
        "zip_file = ZipFile(io.BytesIO(f))\n",
        "\n",
        "train_df = pd.read_csv(zip_file.open('kddcup.csv'),header = None,names = colnames)\n",
        "print(\"train_df shape -> \",train_df.shape)\n",
        "test_df = pd.read_csv(zip_file.open('corrected.csv'),header = None,names = colnames)\n",
        "print(\"test_df shape -> \",test_df.shape)"
      ],
      "execution_count": null,
      "outputs": [
        {
          "output_type": "stream",
          "name": "stdout",
          "text": [
            "train_df shape ->  (494021, 42)\n",
            "test_df shape ->  (311029, 42)\n"
          ]
        }
      ]
    },
    {
      "cell_type": "code",
      "metadata": {
        "colab": {
          "base_uri": "https://localhost:8080/",
          "height": 226
        },
        "id": "wbGW7Vk1lsub",
        "outputId": "04865872-792c-4fff-dd86-2027cec025ad"
      },
      "source": [
        "train_df.head()"
      ],
      "execution_count": null,
      "outputs": [
        {
          "output_type": "execute_result",
          "data": {
            "text/html": [
              "<div>\n",
              "<style scoped>\n",
              "    .dataframe tbody tr th:only-of-type {\n",
              "        vertical-align: middle;\n",
              "    }\n",
              "\n",
              "    .dataframe tbody tr th {\n",
              "        vertical-align: top;\n",
              "    }\n",
              "\n",
              "    .dataframe thead th {\n",
              "        text-align: right;\n",
              "    }\n",
              "</style>\n",
              "<table border=\"1\" class=\"dataframe\">\n",
              "  <thead>\n",
              "    <tr style=\"text-align: right;\">\n",
              "      <th></th>\n",
              "      <th>duration</th>\n",
              "      <th>protocol_type</th>\n",
              "      <th>service</th>\n",
              "      <th>flag</th>\n",
              "      <th>src_bytes</th>\n",
              "      <th>dst_bytes</th>\n",
              "      <th>land</th>\n",
              "      <th>wrong_fragment</th>\n",
              "      <th>urgent</th>\n",
              "      <th>hot</th>\n",
              "      <th>num_failed_logins</th>\n",
              "      <th>logged_in</th>\n",
              "      <th>num_compromised</th>\n",
              "      <th>root_shell</th>\n",
              "      <th>su_attempted</th>\n",
              "      <th>num_root</th>\n",
              "      <th>num_file_creations</th>\n",
              "      <th>num_shells</th>\n",
              "      <th>num_access_files</th>\n",
              "      <th>num_outbound_cmds</th>\n",
              "      <th>is_host_login</th>\n",
              "      <th>is_guest_login</th>\n",
              "      <th>count</th>\n",
              "      <th>srv_count</th>\n",
              "      <th>serror_rate</th>\n",
              "      <th>srv_serror_rate</th>\n",
              "      <th>same_srv_rate</th>\n",
              "      <th>diff_srv_rate</th>\n",
              "      <th>srv_diff_host_rate</th>\n",
              "      <th>una1</th>\n",
              "      <th>una2</th>\n",
              "      <th>dst_host_count</th>\n",
              "      <th>dst_host_srv_count</th>\n",
              "      <th>dst_host_same_srv_rate</th>\n",
              "      <th>dst_host_diff_srv_rate</th>\n",
              "      <th>dst_host_same_src_port_rate</th>\n",
              "      <th>dst_host_srv_diff_host_rate</th>\n",
              "      <th>dst_host_serror_rate</th>\n",
              "      <th>dst_host_srv_serror_rate</th>\n",
              "      <th>dst_host_rerror_rate</th>\n",
              "      <th>dst_host_srv_rerror_rate</th>\n",
              "      <th>result</th>\n",
              "    </tr>\n",
              "  </thead>\n",
              "  <tbody>\n",
              "    <tr>\n",
              "      <th>0</th>\n",
              "      <td>0</td>\n",
              "      <td>tcp</td>\n",
              "      <td>http</td>\n",
              "      <td>SF</td>\n",
              "      <td>181</td>\n",
              "      <td>5450</td>\n",
              "      <td>0</td>\n",
              "      <td>0</td>\n",
              "      <td>0</td>\n",
              "      <td>0</td>\n",
              "      <td>0</td>\n",
              "      <td>1</td>\n",
              "      <td>0</td>\n",
              "      <td>0</td>\n",
              "      <td>0</td>\n",
              "      <td>0</td>\n",
              "      <td>0</td>\n",
              "      <td>0</td>\n",
              "      <td>0</td>\n",
              "      <td>0</td>\n",
              "      <td>0</td>\n",
              "      <td>0</td>\n",
              "      <td>8</td>\n",
              "      <td>8</td>\n",
              "      <td>0.0</td>\n",
              "      <td>0.0</td>\n",
              "      <td>0.0</td>\n",
              "      <td>0.0</td>\n",
              "      <td>1.0</td>\n",
              "      <td>0.0</td>\n",
              "      <td>0.0</td>\n",
              "      <td>9</td>\n",
              "      <td>9</td>\n",
              "      <td>1.0</td>\n",
              "      <td>0.0</td>\n",
              "      <td>0.11</td>\n",
              "      <td>0.0</td>\n",
              "      <td>0.0</td>\n",
              "      <td>0.0</td>\n",
              "      <td>0.0</td>\n",
              "      <td>0.0</td>\n",
              "      <td>normal.</td>\n",
              "    </tr>\n",
              "    <tr>\n",
              "      <th>1</th>\n",
              "      <td>0</td>\n",
              "      <td>tcp</td>\n",
              "      <td>http</td>\n",
              "      <td>SF</td>\n",
              "      <td>239</td>\n",
              "      <td>486</td>\n",
              "      <td>0</td>\n",
              "      <td>0</td>\n",
              "      <td>0</td>\n",
              "      <td>0</td>\n",
              "      <td>0</td>\n",
              "      <td>1</td>\n",
              "      <td>0</td>\n",
              "      <td>0</td>\n",
              "      <td>0</td>\n",
              "      <td>0</td>\n",
              "      <td>0</td>\n",
              "      <td>0</td>\n",
              "      <td>0</td>\n",
              "      <td>0</td>\n",
              "      <td>0</td>\n",
              "      <td>0</td>\n",
              "      <td>8</td>\n",
              "      <td>8</td>\n",
              "      <td>0.0</td>\n",
              "      <td>0.0</td>\n",
              "      <td>0.0</td>\n",
              "      <td>0.0</td>\n",
              "      <td>1.0</td>\n",
              "      <td>0.0</td>\n",
              "      <td>0.0</td>\n",
              "      <td>19</td>\n",
              "      <td>19</td>\n",
              "      <td>1.0</td>\n",
              "      <td>0.0</td>\n",
              "      <td>0.05</td>\n",
              "      <td>0.0</td>\n",
              "      <td>0.0</td>\n",
              "      <td>0.0</td>\n",
              "      <td>0.0</td>\n",
              "      <td>0.0</td>\n",
              "      <td>normal.</td>\n",
              "    </tr>\n",
              "    <tr>\n",
              "      <th>2</th>\n",
              "      <td>0</td>\n",
              "      <td>tcp</td>\n",
              "      <td>http</td>\n",
              "      <td>SF</td>\n",
              "      <td>235</td>\n",
              "      <td>1337</td>\n",
              "      <td>0</td>\n",
              "      <td>0</td>\n",
              "      <td>0</td>\n",
              "      <td>0</td>\n",
              "      <td>0</td>\n",
              "      <td>1</td>\n",
              "      <td>0</td>\n",
              "      <td>0</td>\n",
              "      <td>0</td>\n",
              "      <td>0</td>\n",
              "      <td>0</td>\n",
              "      <td>0</td>\n",
              "      <td>0</td>\n",
              "      <td>0</td>\n",
              "      <td>0</td>\n",
              "      <td>0</td>\n",
              "      <td>8</td>\n",
              "      <td>8</td>\n",
              "      <td>0.0</td>\n",
              "      <td>0.0</td>\n",
              "      <td>0.0</td>\n",
              "      <td>0.0</td>\n",
              "      <td>1.0</td>\n",
              "      <td>0.0</td>\n",
              "      <td>0.0</td>\n",
              "      <td>29</td>\n",
              "      <td>29</td>\n",
              "      <td>1.0</td>\n",
              "      <td>0.0</td>\n",
              "      <td>0.03</td>\n",
              "      <td>0.0</td>\n",
              "      <td>0.0</td>\n",
              "      <td>0.0</td>\n",
              "      <td>0.0</td>\n",
              "      <td>0.0</td>\n",
              "      <td>normal.</td>\n",
              "    </tr>\n",
              "    <tr>\n",
              "      <th>3</th>\n",
              "      <td>0</td>\n",
              "      <td>tcp</td>\n",
              "      <td>http</td>\n",
              "      <td>SF</td>\n",
              "      <td>219</td>\n",
              "      <td>1337</td>\n",
              "      <td>0</td>\n",
              "      <td>0</td>\n",
              "      <td>0</td>\n",
              "      <td>0</td>\n",
              "      <td>0</td>\n",
              "      <td>1</td>\n",
              "      <td>0</td>\n",
              "      <td>0</td>\n",
              "      <td>0</td>\n",
              "      <td>0</td>\n",
              "      <td>0</td>\n",
              "      <td>0</td>\n",
              "      <td>0</td>\n",
              "      <td>0</td>\n",
              "      <td>0</td>\n",
              "      <td>0</td>\n",
              "      <td>6</td>\n",
              "      <td>6</td>\n",
              "      <td>0.0</td>\n",
              "      <td>0.0</td>\n",
              "      <td>0.0</td>\n",
              "      <td>0.0</td>\n",
              "      <td>1.0</td>\n",
              "      <td>0.0</td>\n",
              "      <td>0.0</td>\n",
              "      <td>39</td>\n",
              "      <td>39</td>\n",
              "      <td>1.0</td>\n",
              "      <td>0.0</td>\n",
              "      <td>0.03</td>\n",
              "      <td>0.0</td>\n",
              "      <td>0.0</td>\n",
              "      <td>0.0</td>\n",
              "      <td>0.0</td>\n",
              "      <td>0.0</td>\n",
              "      <td>normal.</td>\n",
              "    </tr>\n",
              "    <tr>\n",
              "      <th>4</th>\n",
              "      <td>0</td>\n",
              "      <td>tcp</td>\n",
              "      <td>http</td>\n",
              "      <td>SF</td>\n",
              "      <td>217</td>\n",
              "      <td>2032</td>\n",
              "      <td>0</td>\n",
              "      <td>0</td>\n",
              "      <td>0</td>\n",
              "      <td>0</td>\n",
              "      <td>0</td>\n",
              "      <td>1</td>\n",
              "      <td>0</td>\n",
              "      <td>0</td>\n",
              "      <td>0</td>\n",
              "      <td>0</td>\n",
              "      <td>0</td>\n",
              "      <td>0</td>\n",
              "      <td>0</td>\n",
              "      <td>0</td>\n",
              "      <td>0</td>\n",
              "      <td>0</td>\n",
              "      <td>6</td>\n",
              "      <td>6</td>\n",
              "      <td>0.0</td>\n",
              "      <td>0.0</td>\n",
              "      <td>0.0</td>\n",
              "      <td>0.0</td>\n",
              "      <td>1.0</td>\n",
              "      <td>0.0</td>\n",
              "      <td>0.0</td>\n",
              "      <td>49</td>\n",
              "      <td>49</td>\n",
              "      <td>1.0</td>\n",
              "      <td>0.0</td>\n",
              "      <td>0.02</td>\n",
              "      <td>0.0</td>\n",
              "      <td>0.0</td>\n",
              "      <td>0.0</td>\n",
              "      <td>0.0</td>\n",
              "      <td>0.0</td>\n",
              "      <td>normal.</td>\n",
              "    </tr>\n",
              "  </tbody>\n",
              "</table>\n",
              "</div>"
            ],
            "text/plain": [
              "   duration protocol_type  ... dst_host_srv_rerror_rate   result\n",
              "0         0           tcp  ...                      0.0  normal.\n",
              "1         0           tcp  ...                      0.0  normal.\n",
              "2         0           tcp  ...                      0.0  normal.\n",
              "3         0           tcp  ...                      0.0  normal.\n",
              "4         0           tcp  ...                      0.0  normal.\n",
              "\n",
              "[5 rows x 42 columns]"
            ]
          },
          "metadata": {},
          "execution_count": 4
        }
      ]
    },
    {
      "cell_type": "code",
      "metadata": {
        "colab": {
          "base_uri": "https://localhost:8080/",
          "height": 226
        },
        "id": "aout2ooGlvA5",
        "outputId": "5e1a14c9-37f7-4878-aca7-b5de065af1d4"
      },
      "source": [
        "test_df.head()"
      ],
      "execution_count": null,
      "outputs": [
        {
          "output_type": "execute_result",
          "data": {
            "text/html": [
              "<div>\n",
              "<style scoped>\n",
              "    .dataframe tbody tr th:only-of-type {\n",
              "        vertical-align: middle;\n",
              "    }\n",
              "\n",
              "    .dataframe tbody tr th {\n",
              "        vertical-align: top;\n",
              "    }\n",
              "\n",
              "    .dataframe thead th {\n",
              "        text-align: right;\n",
              "    }\n",
              "</style>\n",
              "<table border=\"1\" class=\"dataframe\">\n",
              "  <thead>\n",
              "    <tr style=\"text-align: right;\">\n",
              "      <th></th>\n",
              "      <th>duration</th>\n",
              "      <th>protocol_type</th>\n",
              "      <th>service</th>\n",
              "      <th>flag</th>\n",
              "      <th>src_bytes</th>\n",
              "      <th>dst_bytes</th>\n",
              "      <th>land</th>\n",
              "      <th>wrong_fragment</th>\n",
              "      <th>urgent</th>\n",
              "      <th>hot</th>\n",
              "      <th>num_failed_logins</th>\n",
              "      <th>logged_in</th>\n",
              "      <th>num_compromised</th>\n",
              "      <th>root_shell</th>\n",
              "      <th>su_attempted</th>\n",
              "      <th>num_root</th>\n",
              "      <th>num_file_creations</th>\n",
              "      <th>num_shells</th>\n",
              "      <th>num_access_files</th>\n",
              "      <th>num_outbound_cmds</th>\n",
              "      <th>is_host_login</th>\n",
              "      <th>is_guest_login</th>\n",
              "      <th>count</th>\n",
              "      <th>srv_count</th>\n",
              "      <th>serror_rate</th>\n",
              "      <th>srv_serror_rate</th>\n",
              "      <th>same_srv_rate</th>\n",
              "      <th>diff_srv_rate</th>\n",
              "      <th>srv_diff_host_rate</th>\n",
              "      <th>una1</th>\n",
              "      <th>una2</th>\n",
              "      <th>dst_host_count</th>\n",
              "      <th>dst_host_srv_count</th>\n",
              "      <th>dst_host_same_srv_rate</th>\n",
              "      <th>dst_host_diff_srv_rate</th>\n",
              "      <th>dst_host_same_src_port_rate</th>\n",
              "      <th>dst_host_srv_diff_host_rate</th>\n",
              "      <th>dst_host_serror_rate</th>\n",
              "      <th>dst_host_srv_serror_rate</th>\n",
              "      <th>dst_host_rerror_rate</th>\n",
              "      <th>dst_host_srv_rerror_rate</th>\n",
              "      <th>result</th>\n",
              "    </tr>\n",
              "  </thead>\n",
              "  <tbody>\n",
              "    <tr>\n",
              "      <th>0</th>\n",
              "      <td>0</td>\n",
              "      <td>udp</td>\n",
              "      <td>private</td>\n",
              "      <td>SF</td>\n",
              "      <td>105</td>\n",
              "      <td>146</td>\n",
              "      <td>0</td>\n",
              "      <td>0</td>\n",
              "      <td>0</td>\n",
              "      <td>0</td>\n",
              "      <td>0</td>\n",
              "      <td>0</td>\n",
              "      <td>0</td>\n",
              "      <td>0</td>\n",
              "      <td>0</td>\n",
              "      <td>0</td>\n",
              "      <td>0</td>\n",
              "      <td>0</td>\n",
              "      <td>0</td>\n",
              "      <td>0</td>\n",
              "      <td>0</td>\n",
              "      <td>0</td>\n",
              "      <td>1</td>\n",
              "      <td>1</td>\n",
              "      <td>0.0</td>\n",
              "      <td>0.0</td>\n",
              "      <td>0.0</td>\n",
              "      <td>0.0</td>\n",
              "      <td>1.0</td>\n",
              "      <td>0.0</td>\n",
              "      <td>0.0</td>\n",
              "      <td>255</td>\n",
              "      <td>254</td>\n",
              "      <td>1.0</td>\n",
              "      <td>0.01</td>\n",
              "      <td>0.00</td>\n",
              "      <td>0.0</td>\n",
              "      <td>0.0</td>\n",
              "      <td>0.0</td>\n",
              "      <td>0.0</td>\n",
              "      <td>0.0</td>\n",
              "      <td>normal.</td>\n",
              "    </tr>\n",
              "    <tr>\n",
              "      <th>1</th>\n",
              "      <td>0</td>\n",
              "      <td>udp</td>\n",
              "      <td>private</td>\n",
              "      <td>SF</td>\n",
              "      <td>105</td>\n",
              "      <td>146</td>\n",
              "      <td>0</td>\n",
              "      <td>0</td>\n",
              "      <td>0</td>\n",
              "      <td>0</td>\n",
              "      <td>0</td>\n",
              "      <td>0</td>\n",
              "      <td>0</td>\n",
              "      <td>0</td>\n",
              "      <td>0</td>\n",
              "      <td>0</td>\n",
              "      <td>0</td>\n",
              "      <td>0</td>\n",
              "      <td>0</td>\n",
              "      <td>0</td>\n",
              "      <td>0</td>\n",
              "      <td>0</td>\n",
              "      <td>1</td>\n",
              "      <td>1</td>\n",
              "      <td>0.0</td>\n",
              "      <td>0.0</td>\n",
              "      <td>0.0</td>\n",
              "      <td>0.0</td>\n",
              "      <td>1.0</td>\n",
              "      <td>0.0</td>\n",
              "      <td>0.0</td>\n",
              "      <td>255</td>\n",
              "      <td>254</td>\n",
              "      <td>1.0</td>\n",
              "      <td>0.01</td>\n",
              "      <td>0.00</td>\n",
              "      <td>0.0</td>\n",
              "      <td>0.0</td>\n",
              "      <td>0.0</td>\n",
              "      <td>0.0</td>\n",
              "      <td>0.0</td>\n",
              "      <td>normal.</td>\n",
              "    </tr>\n",
              "    <tr>\n",
              "      <th>2</th>\n",
              "      <td>0</td>\n",
              "      <td>udp</td>\n",
              "      <td>private</td>\n",
              "      <td>SF</td>\n",
              "      <td>105</td>\n",
              "      <td>146</td>\n",
              "      <td>0</td>\n",
              "      <td>0</td>\n",
              "      <td>0</td>\n",
              "      <td>0</td>\n",
              "      <td>0</td>\n",
              "      <td>0</td>\n",
              "      <td>0</td>\n",
              "      <td>0</td>\n",
              "      <td>0</td>\n",
              "      <td>0</td>\n",
              "      <td>0</td>\n",
              "      <td>0</td>\n",
              "      <td>0</td>\n",
              "      <td>0</td>\n",
              "      <td>0</td>\n",
              "      <td>0</td>\n",
              "      <td>1</td>\n",
              "      <td>1</td>\n",
              "      <td>0.0</td>\n",
              "      <td>0.0</td>\n",
              "      <td>0.0</td>\n",
              "      <td>0.0</td>\n",
              "      <td>1.0</td>\n",
              "      <td>0.0</td>\n",
              "      <td>0.0</td>\n",
              "      <td>255</td>\n",
              "      <td>254</td>\n",
              "      <td>1.0</td>\n",
              "      <td>0.01</td>\n",
              "      <td>0.00</td>\n",
              "      <td>0.0</td>\n",
              "      <td>0.0</td>\n",
              "      <td>0.0</td>\n",
              "      <td>0.0</td>\n",
              "      <td>0.0</td>\n",
              "      <td>normal.</td>\n",
              "    </tr>\n",
              "    <tr>\n",
              "      <th>3</th>\n",
              "      <td>0</td>\n",
              "      <td>udp</td>\n",
              "      <td>private</td>\n",
              "      <td>SF</td>\n",
              "      <td>105</td>\n",
              "      <td>146</td>\n",
              "      <td>0</td>\n",
              "      <td>0</td>\n",
              "      <td>0</td>\n",
              "      <td>0</td>\n",
              "      <td>0</td>\n",
              "      <td>0</td>\n",
              "      <td>0</td>\n",
              "      <td>0</td>\n",
              "      <td>0</td>\n",
              "      <td>0</td>\n",
              "      <td>0</td>\n",
              "      <td>0</td>\n",
              "      <td>0</td>\n",
              "      <td>0</td>\n",
              "      <td>0</td>\n",
              "      <td>0</td>\n",
              "      <td>2</td>\n",
              "      <td>2</td>\n",
              "      <td>0.0</td>\n",
              "      <td>0.0</td>\n",
              "      <td>0.0</td>\n",
              "      <td>0.0</td>\n",
              "      <td>1.0</td>\n",
              "      <td>0.0</td>\n",
              "      <td>0.0</td>\n",
              "      <td>255</td>\n",
              "      <td>254</td>\n",
              "      <td>1.0</td>\n",
              "      <td>0.01</td>\n",
              "      <td>0.00</td>\n",
              "      <td>0.0</td>\n",
              "      <td>0.0</td>\n",
              "      <td>0.0</td>\n",
              "      <td>0.0</td>\n",
              "      <td>0.0</td>\n",
              "      <td>snmpgetattack.</td>\n",
              "    </tr>\n",
              "    <tr>\n",
              "      <th>4</th>\n",
              "      <td>0</td>\n",
              "      <td>udp</td>\n",
              "      <td>private</td>\n",
              "      <td>SF</td>\n",
              "      <td>105</td>\n",
              "      <td>146</td>\n",
              "      <td>0</td>\n",
              "      <td>0</td>\n",
              "      <td>0</td>\n",
              "      <td>0</td>\n",
              "      <td>0</td>\n",
              "      <td>0</td>\n",
              "      <td>0</td>\n",
              "      <td>0</td>\n",
              "      <td>0</td>\n",
              "      <td>0</td>\n",
              "      <td>0</td>\n",
              "      <td>0</td>\n",
              "      <td>0</td>\n",
              "      <td>0</td>\n",
              "      <td>0</td>\n",
              "      <td>0</td>\n",
              "      <td>2</td>\n",
              "      <td>2</td>\n",
              "      <td>0.0</td>\n",
              "      <td>0.0</td>\n",
              "      <td>0.0</td>\n",
              "      <td>0.0</td>\n",
              "      <td>1.0</td>\n",
              "      <td>0.0</td>\n",
              "      <td>0.0</td>\n",
              "      <td>255</td>\n",
              "      <td>254</td>\n",
              "      <td>1.0</td>\n",
              "      <td>0.01</td>\n",
              "      <td>0.01</td>\n",
              "      <td>0.0</td>\n",
              "      <td>0.0</td>\n",
              "      <td>0.0</td>\n",
              "      <td>0.0</td>\n",
              "      <td>0.0</td>\n",
              "      <td>snmpgetattack.</td>\n",
              "    </tr>\n",
              "  </tbody>\n",
              "</table>\n",
              "</div>"
            ],
            "text/plain": [
              "   duration protocol_type  ... dst_host_srv_rerror_rate          result\n",
              "0         0           udp  ...                      0.0         normal.\n",
              "1         0           udp  ...                      0.0         normal.\n",
              "2         0           udp  ...                      0.0         normal.\n",
              "3         0           udp  ...                      0.0  snmpgetattack.\n",
              "4         0           udp  ...                      0.0  snmpgetattack.\n",
              "\n",
              "[5 rows x 42 columns]"
            ]
          },
          "metadata": {},
          "execution_count": 5
        }
      ]
    },
    {
      "cell_type": "code",
      "metadata": {
        "colab": {
          "base_uri": "https://localhost:8080/"
        },
        "id": "8SEdKBkqVmfd",
        "outputId": "307df1ae-df4d-4c63-cd36-adbca64bdfde"
      },
      "source": [
        "train_df.isnull().sum() \n",
        "#so no data is null in train_df"
      ],
      "execution_count": null,
      "outputs": [
        {
          "output_type": "execute_result",
          "data": {
            "text/plain": [
              "duration                       0\n",
              "protocol_type                  0\n",
              "service                        0\n",
              "flag                           0\n",
              "src_bytes                      0\n",
              "dst_bytes                      0\n",
              "land                           0\n",
              "wrong_fragment                 0\n",
              "urgent                         0\n",
              "hot                            0\n",
              "num_failed_logins              0\n",
              "logged_in                      0\n",
              "num_compromised                0\n",
              "root_shell                     0\n",
              "su_attempted                   0\n",
              "num_root                       0\n",
              "num_file_creations             0\n",
              "num_shells                     0\n",
              "num_access_files               0\n",
              "num_outbound_cmds              0\n",
              "is_host_login                  0\n",
              "is_guest_login                 0\n",
              "count                          0\n",
              "srv_count                      0\n",
              "serror_rate                    0\n",
              "srv_serror_rate                0\n",
              "same_srv_rate                  0\n",
              "diff_srv_rate                  0\n",
              "srv_diff_host_rate             0\n",
              "una1                           0\n",
              "una2                           0\n",
              "dst_host_count                 0\n",
              "dst_host_srv_count             0\n",
              "dst_host_same_srv_rate         0\n",
              "dst_host_diff_srv_rate         0\n",
              "dst_host_same_src_port_rate    0\n",
              "dst_host_srv_diff_host_rate    0\n",
              "dst_host_serror_rate           0\n",
              "dst_host_srv_serror_rate       0\n",
              "dst_host_rerror_rate           0\n",
              "dst_host_srv_rerror_rate       0\n",
              "result                         0\n",
              "dtype: int64"
            ]
          },
          "metadata": {},
          "execution_count": 6
        }
      ]
    },
    {
      "cell_type": "code",
      "metadata": {
        "colab": {
          "base_uri": "https://localhost:8080/"
        },
        "id": "pqNrsYlol9MT",
        "outputId": "40d1f698-e010-4bb3-bfff-feb1be7b822a"
      },
      "source": [
        "test_df.isnull().sum()\n",
        "#so no data is null in test_df"
      ],
      "execution_count": null,
      "outputs": [
        {
          "output_type": "execute_result",
          "data": {
            "text/plain": [
              "duration                       0\n",
              "protocol_type                  0\n",
              "service                        0\n",
              "flag                           0\n",
              "src_bytes                      0\n",
              "dst_bytes                      0\n",
              "land                           0\n",
              "wrong_fragment                 0\n",
              "urgent                         0\n",
              "hot                            0\n",
              "num_failed_logins              0\n",
              "logged_in                      0\n",
              "num_compromised                0\n",
              "root_shell                     0\n",
              "su_attempted                   0\n",
              "num_root                       0\n",
              "num_file_creations             0\n",
              "num_shells                     0\n",
              "num_access_files               0\n",
              "num_outbound_cmds              0\n",
              "is_host_login                  0\n",
              "is_guest_login                 0\n",
              "count                          0\n",
              "srv_count                      0\n",
              "serror_rate                    0\n",
              "srv_serror_rate                0\n",
              "same_srv_rate                  0\n",
              "diff_srv_rate                  0\n",
              "srv_diff_host_rate             0\n",
              "una1                           0\n",
              "una2                           0\n",
              "dst_host_count                 0\n",
              "dst_host_srv_count             0\n",
              "dst_host_same_srv_rate         0\n",
              "dst_host_diff_srv_rate         0\n",
              "dst_host_same_src_port_rate    0\n",
              "dst_host_srv_diff_host_rate    0\n",
              "dst_host_serror_rate           0\n",
              "dst_host_srv_serror_rate       0\n",
              "dst_host_rerror_rate           0\n",
              "dst_host_srv_rerror_rate       0\n",
              "result                         0\n",
              "dtype: int64"
            ]
          },
          "metadata": {},
          "execution_count": 7
        }
      ]
    },
    {
      "cell_type": "code",
      "metadata": {
        "colab": {
          "base_uri": "https://localhost:8080/"
        },
        "id": "MPeDOmfLmDSh",
        "outputId": "28f3b033-3fa8-4909-d253-51c2a258de6f"
      },
      "source": [
        "pd.Series(train_df.protocol_type.value_counts(ascending=True))"
      ],
      "execution_count": null,
      "outputs": [
        {
          "output_type": "execute_result",
          "data": {
            "text/plain": [
              "udp      20354\n",
              "tcp     190065\n",
              "icmp    283602\n",
              "Name: protocol_type, dtype: int64"
            ]
          },
          "metadata": {},
          "execution_count": 8
        }
      ]
    },
    {
      "cell_type": "code",
      "metadata": {
        "colab": {
          "base_uri": "https://localhost:8080/"
        },
        "id": "9be9egdopBQK",
        "outputId": "07021128-3bf2-4940-bdf2-2eb96c1b792f"
      },
      "source": [
        "pd.Series(test_df.protocol_type.value_counts(ascending=True))"
      ],
      "execution_count": null,
      "outputs": [
        {
          "output_type": "execute_result",
          "data": {
            "text/plain": [
              "udp      26703\n",
              "tcp     119357\n",
              "icmp    164969\n",
              "Name: protocol_type, dtype: int64"
            ]
          },
          "metadata": {},
          "execution_count": 9
        }
      ]
    },
    {
      "cell_type": "code",
      "metadata": {
        "colab": {
          "base_uri": "https://localhost:8080/"
        },
        "id": "QigO_RsHo5Fa",
        "outputId": "a7ec97ad-a06e-46b4-ac45-82e1611a5b66"
      },
      "source": [
        "pd.Series(train_df.result.value_counts(ascending=True))"
      ],
      "execution_count": null,
      "outputs": [
        {
          "output_type": "execute_result",
          "data": {
            "text/plain": [
              "spy.                     2\n",
              "perl.                    3\n",
              "phf.                     4\n",
              "multihop.                7\n",
              "ftp_write.               8\n",
              "loadmodule.              9\n",
              "rootkit.                10\n",
              "imap.                   12\n",
              "warezmaster.            20\n",
              "land.                   21\n",
              "buffer_overflow.        30\n",
              "guess_passwd.           53\n",
              "nmap.                  231\n",
              "pod.                   264\n",
              "teardrop.              979\n",
              "warezclient.          1020\n",
              "portsweep.            1040\n",
              "ipsweep.              1247\n",
              "satan.                1589\n",
              "back.                 2203\n",
              "normal.              97278\n",
              "neptune.            107201\n",
              "smurf.              280790\n",
              "Name: result, dtype: int64"
            ]
          },
          "metadata": {},
          "execution_count": 10
        }
      ]
    },
    {
      "cell_type": "markdown",
      "metadata": {
        "id": "rxdH1HSo_UQK"
      },
      "source": [
        "#Distribution of Attacks"
      ]
    },
    {
      "cell_type": "code",
      "metadata": {
        "colab": {
          "base_uri": "https://localhost:8080/",
          "height": 821
        },
        "id": "-euH9x3Q_THL",
        "outputId": "9f9885b3-3ee3-42d0-b1b0-326cc2f067dc"
      },
      "source": [
        "plt.clf()\n",
        "plt.figure(figsize = (12,12))\n",
        "plt.title(\"Distribution of attacks in train dataset\")\n",
        "train_df['result'].value_counts().apply(np.log).plot(kind = 'bar')\n",
        "plt.show"
      ],
      "execution_count": null,
      "outputs": [
        {
          "output_type": "execute_result",
          "data": {
            "text/plain": [
              "<function matplotlib.pyplot.show>"
            ]
          },
          "metadata": {},
          "execution_count": 11
        },
        {
          "output_type": "display_data",
          "data": {
            "text/plain": [
              "<Figure size 432x288 with 0 Axes>"
            ]
          },
          "metadata": {}
        },
        {
          "output_type": "display_data",
          "data": {
            "image/png": "[encoded data removed]",
            "text/plain": [
              "<Figure size 864x864 with 1 Axes>"
            ]
          },
          "metadata": {
            "needs_background": "light"
          }
        }
      ]
    },
    {
      "cell_type": "code",
      "metadata": {
        "colab": {
          "base_uri": "https://localhost:8080/"
        },
        "id": "-KZEH0repFD3",
        "outputId": "edc8989e-7fcf-48e2-e9c7-683409a485c4"
      },
      "source": [
        "pd.Series(test_df.result.value_counts(ascending=True))"
      ],
      "execution_count": null,
      "outputs": [
        {
          "output_type": "execute_result",
          "data": {
            "text/plain": [
              "imap.                    1\n",
              "sqlattack.               2\n",
              "phf.                     2\n",
              "loadmodule.              2\n",
              "udpstorm.                2\n",
              "perl.                    2\n",
              "worm.                    2\n",
              "ftp_write.               3\n",
              "xsnoop.                  4\n",
              "xlock.                   9\n",
              "land.                    9\n",
              "teardrop.               12\n",
              "rootkit.                13\n",
              "xterm.                  13\n",
              "ps.                     16\n",
              "named.                  17\n",
              "sendmail.               17\n",
              "multihop.               18\n",
              "buffer_overflow.        22\n",
              "nmap.                   84\n",
              "pod.                    87\n",
              "httptunnel.            158\n",
              "ipsweep.               306\n",
              "portsweep.             354\n",
              "saint.                 736\n",
              "processtable.          759\n",
              "apache2.               794\n",
              "mscan.                1053\n",
              "back.                 1098\n",
              "warezmaster.          1602\n",
              "satan.                1633\n",
              "snmpguess.            2406\n",
              "guess_passwd.         4367\n",
              "mailbomb.             5000\n",
              "snmpgetattack.        7741\n",
              "neptune.             58001\n",
              "normal.              60593\n",
              "smurf.              164091\n",
              "Name: result, dtype: int64"
            ]
          },
          "metadata": {},
          "execution_count": 12
        }
      ]
    },
    {
      "cell_type": "code",
      "metadata": {
        "id": "DDcAmy3Mz2hQ"
      },
      "source": [
        "features = [\"duration\",\"src_bytes\",\"wrong_fragment\",\"count\",\"urgent\",\"num_compromised\",\"srv_count\"]\n",
        "target = \"result\""
      ],
      "execution_count": null,
      "outputs": []
    },
    {
      "cell_type": "code",
      "metadata": {
        "id": "if7XXVz6z6fO"
      },
      "source": [
        "# X = train_df.loc[:,features]\n",
        "# y = test_df.loc[:,target]"
      ],
      "execution_count": null,
      "outputs": []
    },
    {
      "cell_type": "code",
      "metadata": {
        "id": "YOnPwZqQxzh4"
      },
      "source": [
        "# classes = np.unique(y)\n",
        "# print(classes)"
      ],
      "execution_count": null,
      "outputs": []
    },
    {
      "cell_type": "code",
      "metadata": {
        "id": "GmwFDh4cLQx0"
      },
      "source": [
        "train_df[\"result\"] = np.where(train_df.result == \"normal.\",1,0)"
      ],
      "execution_count": null,
      "outputs": []
    },
    {
      "cell_type": "code",
      "metadata": {
        "id": "OWmZZd_y5Xm9"
      },
      "source": [
        "test_df[\"result\"] = np.where(test_df.result == \"normal.\",1,0)"
      ],
      "execution_count": null,
      "outputs": []
    },
    {
      "cell_type": "code",
      "metadata": {
        "id": "OeemrFCr7sF4"
      },
      "source": [
        "# test_df[\"result\"] = test_df[\"result\"].replace([\"normal.\"],1)\n",
        "# test_df[\"result\"] = test_df[\"result\"].replace(['apache2.','back.','buffer_overflow.','ftp_write.','guess_passwd.','httptunnel.','imap.','ipsweep.','land.','loadmodule.','mailbomb.','mscan.','multihop.','named.','neptune.','nmap.','perl.','phf.','pod.','portsweep.','processtable.','ps.','rootkit.','saint.','satan.','sendmail.','smurf.','snmpgetattack.','snmpguess.','sqlattack.','teardrop.','udpstorm.','warezmaster.','worm.','xlock.','xsnoop.','xterm.'],0)"
      ],
      "execution_count": null,
      "outputs": []
    },
    {
      "cell_type": "code",
      "metadata": {
        "colab": {
          "base_uri": "https://localhost:8080/"
        },
        "id": "cjCq0r6430ot",
        "outputId": "ff7ea134-2936-4ead-acb5-f913f41df1cc"
      },
      "source": [
        "pd.Series(train_df.result.value_counts(ascending=True))\n",
        "#around 20% data is normal and remaining is attack"
      ],
      "execution_count": null,
      "outputs": [
        {
          "output_type": "execute_result",
          "data": {
            "text/plain": [
              "1     97278\n",
              "0    396743\n",
              "Name: result, dtype: int64"
            ]
          },
          "metadata": {},
          "execution_count": 19
        }
      ]
    },
    {
      "cell_type": "code",
      "metadata": {
        "colab": {
          "base_uri": "https://localhost:8080/"
        },
        "id": "ZVfYohmf72CK",
        "outputId": "07bc8c0e-7c02-4516-be64-eb9da807fd1e"
      },
      "source": [
        "pd.Series(test_df.result.value_counts(ascending=True))\n",
        "#around 20% data is normal and remaining is attack"
      ],
      "execution_count": null,
      "outputs": [
        {
          "output_type": "execute_result",
          "data": {
            "text/plain": [
              "1     60593\n",
              "0    250436\n",
              "Name: result, dtype: int64"
            ]
          },
          "metadata": {},
          "execution_count": 20
        }
      ]
    },
    {
      "cell_type": "code",
      "metadata": {
        "id": "VI-FxS3c_RXO"
      },
      "source": [
        "# f_temp = urlopen('https://raw.githubusercontent.com/AkshatGarg7/DDOS-Detection-using-Machine-Learning/master/Dataset/kddcup%20(1).data.zip').read()\n",
        "# zip_file_temp = ZipFile(io.BytesIO(f_temp))\n",
        "\n",
        "# df = pd.read_csv(zip_file_temp.open('kddcup (1).data'),header = None,names = colnames)\n",
        "# print(\"df shape -> \",df.shape)"
      ],
      "execution_count": null,
      "outputs": []
    },
    {
      "cell_type": "code",
      "metadata": {
        "id": "dMYQle9DiAk8"
      },
      "source": [
        "# pd.Series(df.protocol_type.value_counts(ascending=True))"
      ],
      "execution_count": null,
      "outputs": []
    },
    {
      "cell_type": "code",
      "metadata": {
        "id": "gaGMldyGiePr"
      },
      "source": [
        "# pd.Series(df.result.value_counts(ascending=True))"
      ],
      "execution_count": null,
      "outputs": []
    },
    {
      "cell_type": "code",
      "metadata": {
        "id": "i-3E7R2jijgl"
      },
      "source": [
        "# df[\"result\"] = np.where(df.result == \"normal.\",1,0)"
      ],
      "execution_count": null,
      "outputs": []
    },
    {
      "cell_type": "code",
      "metadata": {
        "id": "hQ-j3VxzipRo"
      },
      "source": [
        "# pd.Series(df.result.value_counts(ascending=True))"
      ],
      "execution_count": null,
      "outputs": []
    },
    {
      "cell_type": "code",
      "metadata": {
        "id": "F3rVXVZooDg8"
      },
      "source": [
        "# df_normal = df[df[\"result\"] == \"normal.\"]"
      ],
      "execution_count": null,
      "outputs": []
    },
    {
      "cell_type": "code",
      "metadata": {
        "id": "H-84HADpoMjf"
      },
      "source": [
        "# df_normal.to_csv(\"kdd_normal.csv\")"
      ],
      "execution_count": null,
      "outputs": []
    },
    {
      "cell_type": "markdown",
      "metadata": {
        "id": "39X4NF3mZLqn"
      },
      "source": [
        "#Oversampling "
      ]
    },
    {
      "cell_type": "code",
      "metadata": {
        "id": "2Bo0a92hI8V9"
      },
      "source": [
        "def oversampling(df):\n",
        "  classes = df.result.value_counts().to_dict()\n",
        "  most = max(classes.values())\n",
        "  classes_list = []\n",
        "  for key in classes:\n",
        "    classes_list.append(df[df['result'] == key])\n",
        "  classes_sample = []\n",
        "  for i in range(1,len(classes_list)):\n",
        "    classes_sample.append(classes_list[i].sample(most,replace = True))\n",
        "  df_maybe = pd.concat(classes_sample)\n",
        "  final_df = pd.concat([df_maybe,classes_list[0]], axis=0)\n",
        "  final_df = final_df.reset_index(drop=True)\n",
        "  return final_df"
      ],
      "execution_count": null,
      "outputs": []
    },
    {
      "cell_type": "code",
      "metadata": {
        "id": "baJeatXwobQF"
      },
      "source": [
        "# df = oversampling(df)"
      ],
      "execution_count": null,
      "outputs": []
    },
    {
      "cell_type": "code",
      "metadata": {
        "id": "m6LmehK52TiO"
      },
      "source": [
        "# pd.Series(df.result.value_counts(ascending=True))"
      ],
      "execution_count": null,
      "outputs": []
    },
    {
      "cell_type": "code",
      "metadata": {
        "id": "rdSyPbf9WdQ-"
      },
      "source": [
        "# train_df = oversampling(train_df)"
      ],
      "execution_count": null,
      "outputs": []
    },
    {
      "cell_type": "code",
      "metadata": {
        "id": "qZVTiXv2XilV"
      },
      "source": [
        "# pd.Series(train_df.result.value_counts(ascending=True))"
      ],
      "execution_count": null,
      "outputs": []
    },
    {
      "cell_type": "code",
      "metadata": {
        "id": "NO95ERzBi-7C"
      },
      "source": [
        "# pd.Series(train_df.protocol_type.value_counts(ascending=True))"
      ],
      "execution_count": null,
      "outputs": []
    },
    {
      "cell_type": "code",
      "metadata": {
        "id": "zzLrxTLK2W49"
      },
      "source": [
        "# icmp_df = df[df.loc[:,\"protocol_type\"] == \"icmp\"]"
      ],
      "execution_count": null,
      "outputs": []
    },
    {
      "cell_type": "code",
      "metadata": {
        "id": "EEzRYbL32ueu"
      },
      "source": [
        "# x = icmp_df.loc[:,features]\n",
        "# Y = icmp_df.loc[:,target]"
      ],
      "execution_count": null,
      "outputs": []
    },
    {
      "cell_type": "code",
      "metadata": {
        "id": "rf52xwAg3Qtw"
      },
      "source": [
        "# from sklearn.model_selection import train_test_split\n",
        "# x_train,x_test,Y_train,Y_test = train_test_split(x, Y, random_state=1, test_size=0.3)"
      ],
      "execution_count": null,
      "outputs": []
    },
    {
      "cell_type": "code",
      "metadata": {
        "id": "IKBvpZnTjK16",
        "colab": {
          "base_uri": "https://localhost:8080/"
        },
        "outputId": "095d6754-b026-4643-b247-9352b1530045"
      },
      "source": [
        "icmp_train_df = train_df[train_df.loc[:,\"protocol_type\"] == \"icmp\"]\n",
        "icmp_test_df = test_df[test_df.loc[:,\"protocol_type\"] == \"icmp\"]\n",
        "pd.Series(icmp_train_df.result.value_counts(ascending=True))"
      ],
      "execution_count": null,
      "outputs": [
        {
          "output_type": "execute_result",
          "data": {
            "text/plain": [
              "1      1288\n",
              "0    282314\n",
              "Name: result, dtype: int64"
            ]
          },
          "metadata": {},
          "execution_count": 37
        }
      ]
    },
    {
      "cell_type": "code",
      "metadata": {
        "colab": {
          "base_uri": "https://localhost:8080/",
          "height": 690
        },
        "id": "KjJLTgqWsI4b",
        "outputId": "42dcc385-cc17-4b50-ce01-7421266a9171"
      },
      "source": [
        "plt.figure(figsize=(24,20))\n",
        "plt.subplot(4,2,1)\n",
        "fig = icmp_train_df.boxplot(column='duration')\n",
        "# \"duration\",\"src_bytes\",\"wrong_fragment\",\"count\",\"urgent\",\"num_compromised\",\"srv_count\"\n",
        "plt.subplot(4,2,2)\n",
        "fig = icmp_train_df.boxplot(column='src_bytes')\n",
        "plt.subplot(4,2,3)\n",
        "fig = icmp_train_df.boxplot(column='wrong_fragment')\n",
        "plt.subplot(4,2,4)\n",
        "fig = icmp_train_df.boxplot(column='count')\n",
        "plt.subplot(4,2,5)\n",
        "fig = icmp_train_df.boxplot(column='urgent')\n",
        "plt.subplot(4,2,6)\n",
        "fig = icmp_train_df.boxplot(column='num_compromised')\n",
        "plt.subplot(4,2,7)\n",
        "fig = icmp_train_df.boxplot(column='srv_count')"
      ],
      "execution_count": null,
      "outputs": [
        {
          "output_type": "display_data",
          "data": {
            "image/png": "[encoded data removed]",
            "text/plain": [
              "<Figure size 1728x1440 with 7 Axes>"
            ]
          },
          "metadata": {
            "needs_background": "light"
          }
        }
      ]
    },
    {
      "cell_type": "code",
      "metadata": {
        "colab": {
          "base_uri": "https://localhost:8080/",
          "height": 686
        },
        "id": "3B_pkiZStYPC",
        "outputId": "7f883445-5453-4c68-b459-d1481efa91f4"
      },
      "source": [
        "plt.figure(figsize=(24,20))\n",
        "plt.subplot(4,2,1)\n",
        "fig = icmp_train_df['duration'].hist(bins=20)\n",
        "# \"duration\",\"src_bytes\",\"wrong_fragment\",\"count\",\"urgent\",\"num_compromised\",\"srv_count\"\n",
        "plt.subplot(4,2,2)\n",
        "fig = icmp_train_df['src_bytes'].hist(bins=20)\n",
        "plt.subplot(4,2,3)\n",
        "fig = icmp_train_df['wrong_fragment'].hist(bins=20)\n",
        "plt.subplot(4,2,4)\n",
        "fig = icmp_train_df['count'].hist(bins=20)\n",
        "plt.subplot(4,2,5)\n",
        "fig = icmp_train_df['urgent'].hist(bins=20)\n",
        "plt.subplot(4,2,6)\n",
        "fig = icmp_train_df['num_compromised'].hist(bins=20)\n",
        "plt.subplot(4,2,7)\n",
        "fig = icmp_train_df['srv_count'].hist(bins=20)"
      ],
      "execution_count": null,
      "outputs": [
        {
          "output_type": "display_data",
          "data": {
            "image/png": "[encoded data removed]",
            "text/plain": [
              "<Figure size 1728x1440 with 7 Axes>"
            ]
          },
          "metadata": {
            "needs_background": "light"
          }
        }
      ]
    },
    {
      "cell_type": "code",
      "metadata": {
        "colab": {
          "base_uri": "https://localhost:8080/"
        },
        "id": "O8xzE5vwlZ9X",
        "outputId": "9c098f0c-312f-42f7-d859-428881ea9dd6"
      },
      "source": [
        "icmp_train_df = oversampling(icmp_train_df)\n",
        "pd.Series(icmp_train_df.result.value_counts(ascending=True))"
      ],
      "execution_count": null,
      "outputs": [
        {
          "output_type": "execute_result",
          "data": {
            "text/plain": [
              "0    282314\n",
              "1    282314\n",
              "Name: result, dtype: int64"
            ]
          },
          "metadata": {},
          "execution_count": 40
        }
      ]
    },
    {
      "cell_type": "code",
      "metadata": {
        "colab": {
          "base_uri": "https://localhost:8080/"
        },
        "id": "6gtqPoVEhX8G",
        "outputId": "c1d6155b-be23-4a98-a9aa-7fff2914b5c7"
      },
      "source": [
        "pd.Series(icmp_test_df.result.value_counts(ascending=True))"
      ],
      "execution_count": null,
      "outputs": [
        {
          "output_type": "execute_result",
          "data": {
            "text/plain": [
              "1       378\n",
              "0    164591\n",
              "Name: result, dtype: int64"
            ]
          },
          "metadata": {},
          "execution_count": 41
        }
      ]
    },
    {
      "cell_type": "code",
      "metadata": {
        "colab": {
          "base_uri": "https://localhost:8080/"
        },
        "id": "0XUPwW0HaCfD",
        "outputId": "a2a92cd0-e494-4791-a312-eb5b98d9af3f"
      },
      "source": [
        "tcp_train_df = train_df[train_df.loc[:,\"protocol_type\"] == \"tcp\"]\n",
        "tcp_test_df = test_df[test_df.loc[:,\"protocol_type\"] == \"tcp\"]\n",
        "pd.Series(tcp_train_df.result.value_counts(ascending=True))"
      ],
      "execution_count": null,
      "outputs": [
        {
          "output_type": "execute_result",
          "data": {
            "text/plain": [
              "1     76813\n",
              "0    113252\n",
              "Name: result, dtype: int64"
            ]
          },
          "metadata": {},
          "execution_count": 42
        }
      ]
    },
    {
      "cell_type": "code",
      "metadata": {
        "colab": {
          "base_uri": "https://localhost:8080/"
        },
        "id": "jsvC8ZnrleBx",
        "outputId": "c13719d5-e4f3-4de1-9e0b-779cb2801948"
      },
      "source": [
        "tcp_train_df = oversampling(tcp_train_df)\n",
        "pd.Series(tcp_train_df.result.value_counts(ascending=True))"
      ],
      "execution_count": null,
      "outputs": [
        {
          "output_type": "execute_result",
          "data": {
            "text/plain": [
              "0    113252\n",
              "1    113252\n",
              "Name: result, dtype: int64"
            ]
          },
          "metadata": {},
          "execution_count": 43
        }
      ]
    },
    {
      "cell_type": "code",
      "metadata": {
        "colab": {
          "base_uri": "https://localhost:8080/"
        },
        "id": "SfNBTaxBhc6E",
        "outputId": "9662682b-3539-4b81-b773-e96d00f14e9f"
      },
      "source": [
        "pd.Series(tcp_test_df.result.value_counts(ascending=True))"
      ],
      "execution_count": null,
      "outputs": [
        {
          "output_type": "execute_result",
          "data": {
            "text/plain": [
              "1    44118\n",
              "0    75239\n",
              "Name: result, dtype: int64"
            ]
          },
          "metadata": {},
          "execution_count": 44
        }
      ]
    },
    {
      "cell_type": "code",
      "metadata": {
        "colab": {
          "base_uri": "https://localhost:8080/"
        },
        "id": "f-z2XObMaJPb",
        "outputId": "612070f9-90c6-40d4-eee1-34b00213739e"
      },
      "source": [
        "udp_train_df = train_df[train_df.loc[:,\"protocol_type\"] == \"udp\"]\n",
        "udp_test_df = test_df[test_df.loc[:,\"protocol_type\"] == \"udp\"]\n",
        "pd.Series(udp_train_df.result.value_counts(ascending=True))"
      ],
      "execution_count": null,
      "outputs": [
        {
          "output_type": "execute_result",
          "data": {
            "text/plain": [
              "0     1177\n",
              "1    19177\n",
              "Name: result, dtype: int64"
            ]
          },
          "metadata": {},
          "execution_count": 45
        }
      ]
    },
    {
      "cell_type": "code",
      "metadata": {
        "colab": {
          "base_uri": "https://localhost:8080/"
        },
        "id": "fSlUzOdkllJP",
        "outputId": "6df05188-7b27-4cd7-af45-2207908cca3a"
      },
      "source": [
        "udp_train_df = oversampling(udp_train_df)\n",
        "pd.Series(udp_train_df.result.value_counts(ascending=True))"
      ],
      "execution_count": null,
      "outputs": [
        {
          "output_type": "execute_result",
          "data": {
            "text/plain": [
              "0    19177\n",
              "1    19177\n",
              "Name: result, dtype: int64"
            ]
          },
          "metadata": {},
          "execution_count": 46
        }
      ]
    },
    {
      "cell_type": "code",
      "metadata": {
        "colab": {
          "base_uri": "https://localhost:8080/"
        },
        "id": "Qqlbh3NXhd7C",
        "outputId": "0e481760-0f3a-40e2-da13-0f795d9dabaa"
      },
      "source": [
        "pd.Series(udp_test_df.result.value_counts(ascending=True))"
      ],
      "execution_count": null,
      "outputs": [
        {
          "output_type": "execute_result",
          "data": {
            "text/plain": [
              "0    10606\n",
              "1    16097\n",
              "Name: result, dtype: int64"
            ]
          },
          "metadata": {},
          "execution_count": 47
        }
      ]
    },
    {
      "cell_type": "code",
      "metadata": {
        "id": "ibPj3LLKXzTx"
      },
      "source": [
        "def train_test(df_train,df_test):\n",
        "  x_train = df_train.loc[:,features]\n",
        "  Y_train = df_train.loc[:,target]\n",
        "  x_test = df_test.loc[:,features]\n",
        "  Y_test = df_test.loc[:,target]\n",
        "  return x_train,Y_train,x_test,Y_test"
      ],
      "execution_count": null,
      "outputs": []
    },
    {
      "cell_type": "code",
      "metadata": {
        "id": "xa-Yjh4Yiu76"
      },
      "source": [
        "from sklearn.linear_model import LogisticRegression\n",
        "from sklearn.neighbors import KNeighborsClassifier\n",
        "from sklearn.neural_network import MLPClassifier\n",
        "from sklearn.tree import DecisionTreeClassifier\n",
        "\n",
        "from sklearn.metrics import classification_report\n",
        "from sklearn.metrics import confusion_matrix\n",
        "from sklearn.metrics import accuracy_score"
      ],
      "execution_count": null,
      "outputs": []
    },
    {
      "cell_type": "code",
      "metadata": {
        "id": "CzndPKWPjxCh"
      },
      "source": [
        "models = [LogisticRegression(), KNeighborsClassifier(n_neighbors=3),MLPClassifier(alpha=0.005),DecisionTreeClassifier()]\n",
        "classifiers = [\"LR\", \"KNN\",\"MLP\",\"DecisionTree\"]\n",
        "scores = []"
      ],
      "execution_count": null,
      "outputs": []
    },
    {
      "cell_type": "code",
      "metadata": {
        "id": "f2YoFTPcjzaI"
      },
      "source": [
        "def model_testing(x_train,Y_train,x_test,Y_test):\n",
        "  for model in models:\n",
        "      model.fit(x_train,Y_train)\n",
        "      Y_pred = model.predict(x_test)\n",
        "      score = accuracy_score(Y_test, Y_pred)*100\n",
        "      scores.append(score)\n",
        "      print(\"Accuracy of  model is: \", score)\n",
        "      conf_matrix = confusion_matrix(Y_test,Y_pred)\n",
        "      report = classification_report(Y_test,Y_pred)\n",
        "      print(\"Confusion Matrix:\\n\",conf_matrix)\n",
        "      print(\"Report:\\n\",report)\n",
        "      print(\"\\n==============***===============\")"
      ],
      "execution_count": null,
      "outputs": []
    },
    {
      "cell_type": "code",
      "metadata": {
        "colab": {
          "base_uri": "https://localhost:8080/"
        },
        "id": "0kF1vp04a9VR",
        "outputId": "fe8d4298-8d4c-41fa-e7dc-8d2d5d50d46c"
      },
      "source": [
        "x_train,Y_train,x_test,Y_test = train_test(icmp_train_df,icmp_test_df)\n",
        "model_testing(x_train,Y_train,x_test,Y_test)"
      ],
      "execution_count": null,
      "outputs": [
        {
          "output_type": "stream",
          "name": "stdout",
          "text": [
            "Accuracy of  model is:  99.58780134449503\n",
            "Confusion Matrix:\n",
            " [[163951    640]\n",
            " [    40    338]]\n",
            "Report:\n",
            "               precision    recall  f1-score   support\n",
            "\n",
            "           0       1.00      1.00      1.00    164591\n",
            "           1       0.35      0.89      0.50       378\n",
            "\n",
            "    accuracy                           1.00    164969\n",
            "   macro avg       0.67      0.95      0.75    164969\n",
            "weighted avg       1.00      1.00      1.00    164969\n",
            "\n",
            "\n",
            "==============***===============\n",
            "Accuracy of  model is:  99.96605422837018\n",
            "Confusion Matrix:\n",
            " [[164580     11]\n",
            " [    45    333]]\n",
            "Report:\n",
            "               precision    recall  f1-score   support\n",
            "\n",
            "           0       1.00      1.00      1.00    164591\n",
            "           1       0.97      0.88      0.92       378\n",
            "\n",
            "    accuracy                           1.00    164969\n",
            "   macro avg       0.98      0.94      0.96    164969\n",
            "weighted avg       1.00      1.00      1.00    164969\n",
            "\n",
            "\n",
            "==============***===============\n",
            "Accuracy of  model is:  99.90725530251137\n",
            "Confusion Matrix:\n",
            " [[164483    108]\n",
            " [    45    333]]\n",
            "Report:\n",
            "               precision    recall  f1-score   support\n",
            "\n",
            "           0       1.00      1.00      1.00    164591\n",
            "           1       0.76      0.88      0.81       378\n",
            "\n",
            "    accuracy                           1.00    164969\n",
            "   macro avg       0.88      0.94      0.91    164969\n",
            "weighted avg       1.00      1.00      1.00    164969\n",
            "\n",
            "\n",
            "==============***===============\n",
            "Accuracy of  model is:  99.9060429535246\n",
            "Confusion Matrix:\n",
            " [[164481    110]\n",
            " [    45    333]]\n",
            "Report:\n",
            "               precision    recall  f1-score   support\n",
            "\n",
            "           0       1.00      1.00      1.00    164591\n",
            "           1       0.75      0.88      0.81       378\n",
            "\n",
            "    accuracy                           1.00    164969\n",
            "   macro avg       0.88      0.94      0.91    164969\n",
            "weighted avg       1.00      1.00      1.00    164969\n",
            "\n",
            "\n",
            "==============***===============\n"
          ]
        }
      ]
    },
    {
      "cell_type": "code",
      "metadata": {
        "colab": {
          "base_uri": "https://localhost:8080/"
        },
        "id": "oEhXsM0_bn8o",
        "outputId": "a1d3daa6-1b08-4519-a31c-5548d1ef1e3b"
      },
      "source": [
        "x_train,Y_train,x_test,Y_test = train_test(tcp_train_df,tcp_test_df)\n",
        "model_testing(x_train,Y_train,x_test,Y_test)"
      ],
      "execution_count": null,
      "outputs": [
        {
          "output_type": "stream",
          "name": "stderr",
          "text": [
            "/usr/local/lib/python3.7/dist-packages/sklearn/linear_model/_logistic.py:818: ConvergenceWarning: lbfgs failed to converge (status=1):\n",
            "STOP: TOTAL NO. of ITERATIONS REACHED LIMIT.\n",
            "\n",
            "Increase the number of iterations (max_iter) or scale the data as shown in:\n",
            "    https://scikit-learn.org/stable/modules/preprocessing.html\n",
            "Please also refer to the documentation for alternative solver options:\n",
            "    https://scikit-learn.org/stable/modules/linear_model.html#logistic-regression\n",
            "  extra_warning_msg=_LOGISTIC_SOLVER_CONVERGENCE_MSG,\n"
          ]
        },
        {
          "output_type": "stream",
          "name": "stdout",
          "text": [
            "Accuracy of  model is:  87.39579580585973\n",
            "Confusion Matrix:\n",
            " [[60243 14996]\n",
            " [   48 44070]]\n",
            "Report:\n",
            "               precision    recall  f1-score   support\n",
            "\n",
            "           0       1.00      0.80      0.89     75239\n",
            "           1       0.75      1.00      0.85     44118\n",
            "\n",
            "    accuracy                           0.87    119357\n",
            "   macro avg       0.87      0.90      0.87    119357\n",
            "weighted avg       0.91      0.87      0.88    119357\n",
            "\n",
            "\n",
            "==============***===============\n",
            "Accuracy of  model is:  90.22679859580921\n",
            "Confusion Matrix:\n",
            " [[63707 11532]\n",
            " [  133 43985]]\n",
            "Report:\n",
            "               precision    recall  f1-score   support\n",
            "\n",
            "           0       1.00      0.85      0.92     75239\n",
            "           1       0.79      1.00      0.88     44118\n",
            "\n",
            "    accuracy                           0.90    119357\n",
            "   macro avg       0.90      0.92      0.90    119357\n",
            "weighted avg       0.92      0.90      0.90    119357\n",
            "\n",
            "\n",
            "==============***===============\n",
            "Accuracy of  model is:  85.7477986209439\n",
            "Confusion Matrix:\n",
            " [[67315  7924]\n",
            " [ 9087 35031]]\n",
            "Report:\n",
            "               precision    recall  f1-score   support\n",
            "\n",
            "           0       0.88      0.89      0.89     75239\n",
            "           1       0.82      0.79      0.80     44118\n",
            "\n",
            "    accuracy                           0.86    119357\n",
            "   macro avg       0.85      0.84      0.85    119357\n",
            "weighted avg       0.86      0.86      0.86    119357\n",
            "\n",
            "\n",
            "==============***===============\n",
            "Accuracy of  model is:  90.9272183449651\n",
            "Confusion Matrix:\n",
            " [[64565 10674]\n",
            " [  155 43963]]\n",
            "Report:\n",
            "               precision    recall  f1-score   support\n",
            "\n",
            "           0       1.00      0.86      0.92     75239\n",
            "           1       0.80      1.00      0.89     44118\n",
            "\n",
            "    accuracy                           0.91    119357\n",
            "   macro avg       0.90      0.93      0.91    119357\n",
            "weighted avg       0.93      0.91      0.91    119357\n",
            "\n",
            "\n",
            "==============***===============\n"
          ]
        }
      ]
    },
    {
      "cell_type": "code",
      "metadata": {
        "colab": {
          "base_uri": "https://localhost:8080/"
        },
        "id": "32NQJug9bpG1",
        "outputId": "2a2c19e0-6fc8-4aef-f28c-4b3a909cff89"
      },
      "source": [
        "x_train,Y_train,x_test,Y_test = train_test(udp_train_df,udp_test_df)\n",
        "model_testing(x_train,Y_train,x_test,Y_test)"
      ],
      "execution_count": null,
      "outputs": [
        {
          "output_type": "stream",
          "name": "stdout",
          "text": [
            "Accuracy of  model is:  61.333932516945666\n",
            "Confusion Matrix:\n",
            " [[  446 10160]\n",
            " [  165 15932]]\n",
            "Report:\n",
            "               precision    recall  f1-score   support\n",
            "\n",
            "           0       0.73      0.04      0.08     10606\n",
            "           1       0.61      0.99      0.76     16097\n",
            "\n",
            "    accuracy                           0.61     26703\n",
            "   macro avg       0.67      0.52      0.42     26703\n",
            "weighted avg       0.66      0.61      0.49     26703\n",
            "\n",
            "\n",
            "==============***===============\n",
            "Accuracy of  model is:  61.180391716286564\n",
            "Confusion Matrix:\n",
            " [[  453 10153]\n",
            " [  213 15884]]\n",
            "Report:\n",
            "               precision    recall  f1-score   support\n",
            "\n",
            "           0       0.68      0.04      0.08     10606\n",
            "           1       0.61      0.99      0.75     16097\n",
            "\n",
            "    accuracy                           0.61     26703\n",
            "   macro avg       0.65      0.51      0.42     26703\n",
            "weighted avg       0.64      0.61      0.49     26703\n",
            "\n",
            "\n",
            "==============***===============\n",
            "Accuracy of  model is:  61.3002284387522\n",
            "Confusion Matrix:\n",
            " [[  456 10150]\n",
            " [  184 15913]]\n",
            "Report:\n",
            "               precision    recall  f1-score   support\n",
            "\n",
            "           0       0.71      0.04      0.08     10606\n",
            "           1       0.61      0.99      0.75     16097\n",
            "\n",
            "    accuracy                           0.61     26703\n",
            "   macro avg       0.66      0.52      0.42     26703\n",
            "weighted avg       0.65      0.61      0.49     26703\n",
            "\n",
            "\n",
            "==============***===============\n",
            "Accuracy of  model is:  61.14294274051605\n",
            "Confusion Matrix:\n",
            " [[  412 10194]\n",
            " [  182 15915]]\n",
            "Report:\n",
            "               precision    recall  f1-score   support\n",
            "\n",
            "           0       0.69      0.04      0.07     10606\n",
            "           1       0.61      0.99      0.75     16097\n",
            "\n",
            "    accuracy                           0.61     26703\n",
            "   macro avg       0.65      0.51      0.41     26703\n",
            "weighted avg       0.64      0.61      0.48     26703\n",
            "\n",
            "\n",
            "==============***===============\n"
          ]
        }
      ]
    },
    {
      "cell_type": "code",
      "metadata": {
        "id": "_znTSxHjufxu"
      },
      "source": [
        "from sklearn.preprocessing import StandardScaler\n",
        "scaler = StandardScaler()\n",
        "x_train,Y_train,x_test,Y_test = train_test(icmp_train_df,icmp_test_df)\n",
        "x_train = scaler.fit_transform(x_train)\n",
        "x_test = scaler.transform(x_test)"
      ],
      "execution_count": null,
      "outputs": []
    },
    {
      "cell_type": "code",
      "metadata": {
        "colab": {
          "base_uri": "https://localhost:8080/"
        },
        "id": "ETL4VhINuzct",
        "outputId": "543f3d06-a48f-45d5-e5bf-9db3c52f36a5"
      },
      "source": [
        "from sklearn.svm import SVC\n",
        "\n",
        "svc = SVC()\n",
        "svc.fit(x_train,Y_train)\n",
        "\n",
        "y_pred = svc.predict(x_test)\n",
        "print(accuracy_score(Y_test,y_pred))"
      ],
      "execution_count": null,
      "outputs": [
        {
          "output_type": "stream",
          "name": "stdout",
          "text": [
            "0.9980238711515497\n"
          ]
        }
      ]
    }
  ]
}